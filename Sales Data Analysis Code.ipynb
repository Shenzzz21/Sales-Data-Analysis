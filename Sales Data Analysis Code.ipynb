{
 "cells": [
  {
   "cell_type": "code",
   "execution_count": 1,
   "id": "5d794c80",
   "metadata": {},
   "outputs": [],
   "source": [
    "import pandas as pd\n",
    "import seaborn as sns\n",
    "from matplotlib import pyplot as plt"
   ]
  },
  {
   "cell_type": "markdown",
   "id": "aadb88d6",
   "metadata": {},
   "source": [
    "# Data Preparation"
   ]
  },
  {
   "cell_type": "markdown",
   "id": "27de57c4",
   "metadata": {},
   "source": [
    "### Write a python program to merge data from each month into one CSV and read in updated dataframe."
   ]
  },
  {
   "cell_type": "code",
   "execution_count": 2,
   "id": "371329b2",
   "metadata": {},
   "outputs": [
    {
     "data": {
      "text/html": [
       "<div>\n",
       "<style scoped>\n",
       "    .dataframe tbody tr th:only-of-type {\n",
       "        vertical-align: middle;\n",
       "    }\n",
       "\n",
       "    .dataframe tbody tr th {\n",
       "        vertical-align: top;\n",
       "    }\n",
       "\n",
       "    .dataframe thead th {\n",
       "        text-align: right;\n",
       "    }\n",
       "</style>\n",
       "<table border=\"1\" class=\"dataframe\">\n",
       "  <thead>\n",
       "    <tr style=\"text-align: right;\">\n",
       "      <th></th>\n",
       "      <th>Order ID</th>\n",
       "      <th>Product</th>\n",
       "      <th>Quantity Ordered</th>\n",
       "      <th>Price Each</th>\n",
       "      <th>Order Date</th>\n",
       "      <th>Purchase Address</th>\n",
       "    </tr>\n",
       "  </thead>\n",
       "  <tbody>\n",
       "    <tr>\n",
       "      <th>0</th>\n",
       "      <td>141234.0</td>\n",
       "      <td>iPhone</td>\n",
       "      <td>1.0</td>\n",
       "      <td>700.00</td>\n",
       "      <td>1/22/2019 21:25</td>\n",
       "      <td>944 Walnut St, Boston, MA 02215</td>\n",
       "    </tr>\n",
       "    <tr>\n",
       "      <th>1</th>\n",
       "      <td>141235.0</td>\n",
       "      <td>Lightning Charging Cable</td>\n",
       "      <td>1.0</td>\n",
       "      <td>14.95</td>\n",
       "      <td>1/28/2019 14:15</td>\n",
       "      <td>185 Maple St, Portland, OR 97035</td>\n",
       "    </tr>\n",
       "    <tr>\n",
       "      <th>2</th>\n",
       "      <td>141236.0</td>\n",
       "      <td>Wired Headphones</td>\n",
       "      <td>2.0</td>\n",
       "      <td>11.99</td>\n",
       "      <td>1/17/2019 13:33</td>\n",
       "      <td>538 Adams St, San Francisco, CA 94016</td>\n",
       "    </tr>\n",
       "    <tr>\n",
       "      <th>3</th>\n",
       "      <td>141237.0</td>\n",
       "      <td>27in FHD Monitor</td>\n",
       "      <td>1.0</td>\n",
       "      <td>149.99</td>\n",
       "      <td>1/5/2019 20:33</td>\n",
       "      <td>738 10th St, Los Angeles, CA 90001</td>\n",
       "    </tr>\n",
       "    <tr>\n",
       "      <th>4</th>\n",
       "      <td>141238.0</td>\n",
       "      <td>Wired Headphones</td>\n",
       "      <td>1.0</td>\n",
       "      <td>11.99</td>\n",
       "      <td>1/25/2019 11:59</td>\n",
       "      <td>387 10th St, Austin, TX 73301</td>\n",
       "    </tr>\n",
       "    <tr>\n",
       "      <th>...</th>\n",
       "      <td>...</td>\n",
       "      <td>...</td>\n",
       "      <td>...</td>\n",
       "      <td>...</td>\n",
       "      <td>...</td>\n",
       "      <td>...</td>\n",
       "    </tr>\n",
       "    <tr>\n",
       "      <th>25112</th>\n",
       "      <td>319666.0</td>\n",
       "      <td>Lightning Charging Cable</td>\n",
       "      <td>1.0</td>\n",
       "      <td>14.95</td>\n",
       "      <td>12/11/2019 20:58</td>\n",
       "      <td>14 Madison St, San Francisco, CA 94016</td>\n",
       "    </tr>\n",
       "    <tr>\n",
       "      <th>25113</th>\n",
       "      <td>319667.0</td>\n",
       "      <td>AA Batteries (4-pack)</td>\n",
       "      <td>2.0</td>\n",
       "      <td>3.84</td>\n",
       "      <td>12/1/2019 12:01</td>\n",
       "      <td>549 Willow St, Los Angeles, CA 90001</td>\n",
       "    </tr>\n",
       "    <tr>\n",
       "      <th>25114</th>\n",
       "      <td>319668.0</td>\n",
       "      <td>Vareebadd Phone</td>\n",
       "      <td>1.0</td>\n",
       "      <td>400.00</td>\n",
       "      <td>12/9/2019 6:43</td>\n",
       "      <td>273 Wilson St, Seattle, WA 98101</td>\n",
       "    </tr>\n",
       "    <tr>\n",
       "      <th>25115</th>\n",
       "      <td>319669.0</td>\n",
       "      <td>Wired Headphones</td>\n",
       "      <td>1.0</td>\n",
       "      <td>11.99</td>\n",
       "      <td>12/3/2019 10:39</td>\n",
       "      <td>778 River St, Dallas, TX 75001</td>\n",
       "    </tr>\n",
       "    <tr>\n",
       "      <th>25116</th>\n",
       "      <td>319670.0</td>\n",
       "      <td>Bose SoundSport Headphones</td>\n",
       "      <td>1.0</td>\n",
       "      <td>99.99</td>\n",
       "      <td>12/21/2019 21:45</td>\n",
       "      <td>747 Chestnut St, Los Angeles, CA 90001</td>\n",
       "    </tr>\n",
       "  </tbody>\n",
       "</table>\n",
       "<p>186850 rows × 6 columns</p>\n",
       "</div>"
      ],
      "text/plain": [
       "       Order ID                     Product  Quantity Ordered  Price Each  \\\n",
       "0      141234.0                      iPhone               1.0      700.00   \n",
       "1      141235.0    Lightning Charging Cable               1.0       14.95   \n",
       "2      141236.0            Wired Headphones               2.0       11.99   \n",
       "3      141237.0            27in FHD Monitor               1.0      149.99   \n",
       "4      141238.0            Wired Headphones               1.0       11.99   \n",
       "...         ...                         ...               ...         ...   \n",
       "25112  319666.0    Lightning Charging Cable               1.0       14.95   \n",
       "25113  319667.0       AA Batteries (4-pack)               2.0        3.84   \n",
       "25114  319668.0             Vareebadd Phone               1.0      400.00   \n",
       "25115  319669.0            Wired Headphones               1.0       11.99   \n",
       "25116  319670.0  Bose SoundSport Headphones               1.0       99.99   \n",
       "\n",
       "             Order Date                        Purchase Address  \n",
       "0       1/22/2019 21:25         944 Walnut St, Boston, MA 02215  \n",
       "1       1/28/2019 14:15        185 Maple St, Portland, OR 97035  \n",
       "2       1/17/2019 13:33   538 Adams St, San Francisco, CA 94016  \n",
       "3        1/5/2019 20:33      738 10th St, Los Angeles, CA 90001  \n",
       "4       1/25/2019 11:59           387 10th St, Austin, TX 73301  \n",
       "...                 ...                                     ...  \n",
       "25112  12/11/2019 20:58  14 Madison St, San Francisco, CA 94016  \n",
       "25113   12/1/2019 12:01    549 Willow St, Los Angeles, CA 90001  \n",
       "25114    12/9/2019 6:43        273 Wilson St, Seattle, WA 98101  \n",
       "25115   12/3/2019 10:39          778 River St, Dallas, TX 75001  \n",
       "25116  12/21/2019 21:45  747 Chestnut St, Los Angeles, CA 90001  \n",
       "\n",
       "[186850 rows x 6 columns]"
      ]
     },
     "execution_count": 2,
     "metadata": {},
     "output_type": "execute_result"
    }
   ],
   "source": [
    "#reading the csv files\n",
    "df1 = pd.read_csv(\"Sales Files/Sales_January_2019.csv\")\n",
    "df2 = pd.read_csv(\"Sales Files/Sales_February_2019.csv\")\n",
    "df3 = pd.read_csv(\"Sales Files/Sales_March_2019.csv\")\n",
    "df4 = pd.read_csv(\"Sales Files/Sales_April_2019.csv\")\n",
    "df5 = pd.read_csv(\"Sales Files/Sales_May_2019.csv\")\n",
    "df6 = pd.read_csv(\"Sales Files/Sales_June_2019.csv\")\n",
    "df7 = pd.read_csv(\"Sales Files/Sales_July_2019.csv\")\n",
    "df8 = pd.read_csv(\"Sales Files/Sales_August_2019.csv\")\n",
    "df9 = pd.read_csv(\"Sales Files/Sales_September_2019.csv\")\n",
    "df10 = pd.read_csv(\"Sales Files/Sales_October_2019.csv\")\n",
    "df11 = pd.read_csv(\"Sales Files/Sales_November_2019.csv\")\n",
    "df12 = pd.read_csv(\"Sales Files/Sales_December_2019.csv\")\n",
    "\n",
    "#merging all csv files into one dataframe\n",
    "annual_data = pd.concat([df1,df2,df3,df4,df5,df6,df7,df8,df9,df10,df11,df12])\n",
    "\n",
    "#displaying the dataframe\n",
    "annual_data"
   ]
  },
  {
   "cell_type": "markdown",
   "id": "dcc7e803",
   "metadata": {},
   "source": [
    "### Write a python program to remove the NaN missing values from updated dataframe."
   ]
  },
  {
   "cell_type": "code",
   "execution_count": 3,
   "id": "ff98900b",
   "metadata": {},
   "outputs": [
    {
     "data": {
      "text/plain": [
       "Order ID            900\n",
       "Product             900\n",
       "Quantity Ordered    900\n",
       "Price Each          900\n",
       "Order Date          900\n",
       "Purchase Address    900\n",
       "dtype: int64"
      ]
     },
     "execution_count": 3,
     "metadata": {},
     "output_type": "execute_result"
    }
   ],
   "source": [
    "#checking the total number of null values in all columns\n",
    "annual_data.isnull().sum()"
   ]
  },
  {
   "cell_type": "code",
   "execution_count": 4,
   "id": "0d9fd1e0",
   "metadata": {
    "scrolled": true
   },
   "outputs": [],
   "source": [
    "#dropping the rows that have null values and updating the dataframe\n",
    "annual_data = annual_data.dropna()"
   ]
  },
  {
   "cell_type": "code",
   "execution_count": 5,
   "id": "565e29d2",
   "metadata": {},
   "outputs": [
    {
     "data": {
      "text/plain": [
       "(185950, 6)"
      ]
     },
     "execution_count": 5,
     "metadata": {},
     "output_type": "execute_result"
    }
   ],
   "source": [
    "#viewing the number of rows and columns of the updated dataframe\n",
    "annual_data.shape"
   ]
  },
  {
   "cell_type": "code",
   "execution_count": 6,
   "id": "d5fec8d8",
   "metadata": {
    "scrolled": true
   },
   "outputs": [
    {
     "data": {
      "text/plain": [
       "Order ID            0\n",
       "Product             0\n",
       "Quantity Ordered    0\n",
       "Price Each          0\n",
       "Order Date          0\n",
       "Purchase Address    0\n",
       "dtype: int64"
      ]
     },
     "execution_count": 6,
     "metadata": {},
     "output_type": "execute_result"
    }
   ],
   "source": [
    "#checking the null values after removing them from all columns\n",
    "annual_data.isnull().sum()"
   ]
  },
  {
   "cell_type": "markdown",
   "id": "a10ff334",
   "metadata": {},
   "source": [
    "### Write a python program to convert Quantity Ordered and Price Each to numeric."
   ]
  },
  {
   "cell_type": "code",
   "execution_count": 7,
   "id": "f7cbba09",
   "metadata": {
    "scrolled": true
   },
   "outputs": [],
   "source": [
    "#suppressing the 'SettingWithCopyWarning' warnings generated\n",
    "pd.options.mode.chained_assignment = None\n",
    "\n",
    "#converting the data type to numeric of the two columns\n",
    "annual_data['Quantity Ordered'] = pd.to_numeric(annual_data['Quantity Ordered'])\n",
    "annual_data['Price Each'] = pd.to_numeric(annual_data['Price Each'])"
   ]
  },
  {
   "cell_type": "code",
   "execution_count": 8,
   "id": "2dd25158",
   "metadata": {},
   "outputs": [
    {
     "data": {
      "text/plain": [
       "Order ID            float64\n",
       "Product              object\n",
       "Quantity Ordered    float64\n",
       "Price Each          float64\n",
       "Order Date           object\n",
       "Purchase Address     object\n",
       "dtype: object"
      ]
     },
     "execution_count": 8,
     "metadata": {},
     "output_type": "execute_result"
    }
   ],
   "source": [
    "#viewing the data type of each column\n",
    "annual_data.dtypes"
   ]
  },
  {
   "cell_type": "markdown",
   "id": "8c0b54c6",
   "metadata": {},
   "source": [
    "### Create a new column named Month from Ordered Date of updated dataframe and convert it to integer as data type."
   ]
  },
  {
   "cell_type": "code",
   "execution_count": 9,
   "id": "b4c9dc05",
   "metadata": {},
   "outputs": [
    {
     "data": {
      "text/html": [
       "<div>\n",
       "<style scoped>\n",
       "    .dataframe tbody tr th:only-of-type {\n",
       "        vertical-align: middle;\n",
       "    }\n",
       "\n",
       "    .dataframe tbody tr th {\n",
       "        vertical-align: top;\n",
       "    }\n",
       "\n",
       "    .dataframe thead th {\n",
       "        text-align: right;\n",
       "    }\n",
       "</style>\n",
       "<table border=\"1\" class=\"dataframe\">\n",
       "  <thead>\n",
       "    <tr style=\"text-align: right;\">\n",
       "      <th></th>\n",
       "      <th>Order ID</th>\n",
       "      <th>Product</th>\n",
       "      <th>Quantity Ordered</th>\n",
       "      <th>Price Each</th>\n",
       "      <th>Order Date</th>\n",
       "      <th>Purchase Address</th>\n",
       "    </tr>\n",
       "  </thead>\n",
       "  <tbody>\n",
       "    <tr>\n",
       "      <th>0</th>\n",
       "      <td>141234.0</td>\n",
       "      <td>iPhone</td>\n",
       "      <td>1.0</td>\n",
       "      <td>700.00</td>\n",
       "      <td>1/22/2019 21:25</td>\n",
       "      <td>944 Walnut St, Boston, MA 02215</td>\n",
       "    </tr>\n",
       "    <tr>\n",
       "      <th>1</th>\n",
       "      <td>141235.0</td>\n",
       "      <td>Lightning Charging Cable</td>\n",
       "      <td>1.0</td>\n",
       "      <td>14.95</td>\n",
       "      <td>1/28/2019 14:15</td>\n",
       "      <td>185 Maple St, Portland, OR 97035</td>\n",
       "    </tr>\n",
       "    <tr>\n",
       "      <th>2</th>\n",
       "      <td>141236.0</td>\n",
       "      <td>Wired Headphones</td>\n",
       "      <td>2.0</td>\n",
       "      <td>11.99</td>\n",
       "      <td>1/17/2019 13:33</td>\n",
       "      <td>538 Adams St, San Francisco, CA 94016</td>\n",
       "    </tr>\n",
       "    <tr>\n",
       "      <th>3</th>\n",
       "      <td>141237.0</td>\n",
       "      <td>27in FHD Monitor</td>\n",
       "      <td>1.0</td>\n",
       "      <td>149.99</td>\n",
       "      <td>1/5/2019 20:33</td>\n",
       "      <td>738 10th St, Los Angeles, CA 90001</td>\n",
       "    </tr>\n",
       "    <tr>\n",
       "      <th>4</th>\n",
       "      <td>141238.0</td>\n",
       "      <td>Wired Headphones</td>\n",
       "      <td>1.0</td>\n",
       "      <td>11.99</td>\n",
       "      <td>1/25/2019 11:59</td>\n",
       "      <td>387 10th St, Austin, TX 73301</td>\n",
       "    </tr>\n",
       "  </tbody>\n",
       "</table>\n",
       "</div>"
      ],
      "text/plain": [
       "   Order ID                   Product  Quantity Ordered  Price Each  \\\n",
       "0  141234.0                    iPhone               1.0      700.00   \n",
       "1  141235.0  Lightning Charging Cable               1.0       14.95   \n",
       "2  141236.0          Wired Headphones               2.0       11.99   \n",
       "3  141237.0          27in FHD Monitor               1.0      149.99   \n",
       "4  141238.0          Wired Headphones               1.0       11.99   \n",
       "\n",
       "        Order Date                       Purchase Address  \n",
       "0  1/22/2019 21:25        944 Walnut St, Boston, MA 02215  \n",
       "1  1/28/2019 14:15       185 Maple St, Portland, OR 97035  \n",
       "2  1/17/2019 13:33  538 Adams St, San Francisco, CA 94016  \n",
       "3   1/5/2019 20:33     738 10th St, Los Angeles, CA 90001  \n",
       "4  1/25/2019 11:59          387 10th St, Austin, TX 73301  "
      ]
     },
     "execution_count": 9,
     "metadata": {},
     "output_type": "execute_result"
    }
   ],
   "source": [
    "#displaying the first five rows of the dataframe\n",
    "annual_data.head()"
   ]
  },
  {
   "cell_type": "code",
   "execution_count": 10,
   "id": "89b7b5eb",
   "metadata": {},
   "outputs": [],
   "source": [
    "#the string values in 'Order Date' column is split into a list \n",
    "#zeroth index is accessed, which is month value\n",
    "#value stored in 'Month' column \n",
    "annual_data['Month'] = annual_data['Order Date'].str.split('/').str[0]"
   ]
  },
  {
   "cell_type": "code",
   "execution_count": 11,
   "id": "76e3caeb",
   "metadata": {},
   "outputs": [
    {
     "data": {
      "text/plain": [
       "Order ID            float64\n",
       "Product              object\n",
       "Quantity Ordered    float64\n",
       "Price Each          float64\n",
       "Order Date           object\n",
       "Purchase Address     object\n",
       "Month                object\n",
       "dtype: object"
      ]
     },
     "execution_count": 11,
     "metadata": {},
     "output_type": "execute_result"
    }
   ],
   "source": [
    "#checking the data type of 'Month'\n",
    "annual_data.dtypes"
   ]
  },
  {
   "cell_type": "code",
   "execution_count": 12,
   "id": "7a42c876",
   "metadata": {},
   "outputs": [],
   "source": [
    "#converting the data type of 'Month' column to integer\n",
    "annual_data['Month'] = annual_data['Month'].astype(int)"
   ]
  },
  {
   "cell_type": "code",
   "execution_count": 13,
   "id": "6a420862",
   "metadata": {},
   "outputs": [
    {
     "data": {
      "text/plain": [
       "Order ID            float64\n",
       "Product              object\n",
       "Quantity Ordered    float64\n",
       "Price Each          float64\n",
       "Order Date           object\n",
       "Purchase Address     object\n",
       "Month                 int32\n",
       "dtype: object"
      ]
     },
     "execution_count": 13,
     "metadata": {},
     "output_type": "execute_result"
    }
   ],
   "source": [
    "#viewing the data type of 'Month' column\n",
    "annual_data.dtypes"
   ]
  },
  {
   "cell_type": "markdown",
   "id": "52ce66b8",
   "metadata": {},
   "source": [
    "### Create a new column named City from Purchase Address based on the value in updated dataframe."
   ]
  },
  {
   "cell_type": "code",
   "execution_count": 14,
   "id": "5af8d5b2",
   "metadata": {},
   "outputs": [
    {
     "data": {
      "text/html": [
       "<div>\n",
       "<style scoped>\n",
       "    .dataframe tbody tr th:only-of-type {\n",
       "        vertical-align: middle;\n",
       "    }\n",
       "\n",
       "    .dataframe tbody tr th {\n",
       "        vertical-align: top;\n",
       "    }\n",
       "\n",
       "    .dataframe thead th {\n",
       "        text-align: right;\n",
       "    }\n",
       "</style>\n",
       "<table border=\"1\" class=\"dataframe\">\n",
       "  <thead>\n",
       "    <tr style=\"text-align: right;\">\n",
       "      <th></th>\n",
       "      <th>Order ID</th>\n",
       "      <th>Product</th>\n",
       "      <th>Quantity Ordered</th>\n",
       "      <th>Price Each</th>\n",
       "      <th>Order Date</th>\n",
       "      <th>Purchase Address</th>\n",
       "      <th>Month</th>\n",
       "      <th>City</th>\n",
       "    </tr>\n",
       "  </thead>\n",
       "  <tbody>\n",
       "    <tr>\n",
       "      <th>0</th>\n",
       "      <td>141234.0</td>\n",
       "      <td>iPhone</td>\n",
       "      <td>1.0</td>\n",
       "      <td>700.00</td>\n",
       "      <td>1/22/2019 21:25</td>\n",
       "      <td>944 Walnut St, Boston, MA 02215</td>\n",
       "      <td>1</td>\n",
       "      <td>Boston</td>\n",
       "    </tr>\n",
       "    <tr>\n",
       "      <th>1</th>\n",
       "      <td>141235.0</td>\n",
       "      <td>Lightning Charging Cable</td>\n",
       "      <td>1.0</td>\n",
       "      <td>14.95</td>\n",
       "      <td>1/28/2019 14:15</td>\n",
       "      <td>185 Maple St, Portland, OR 97035</td>\n",
       "      <td>1</td>\n",
       "      <td>Portland</td>\n",
       "    </tr>\n",
       "    <tr>\n",
       "      <th>2</th>\n",
       "      <td>141236.0</td>\n",
       "      <td>Wired Headphones</td>\n",
       "      <td>2.0</td>\n",
       "      <td>11.99</td>\n",
       "      <td>1/17/2019 13:33</td>\n",
       "      <td>538 Adams St, San Francisco, CA 94016</td>\n",
       "      <td>1</td>\n",
       "      <td>San Francisco</td>\n",
       "    </tr>\n",
       "    <tr>\n",
       "      <th>3</th>\n",
       "      <td>141237.0</td>\n",
       "      <td>27in FHD Monitor</td>\n",
       "      <td>1.0</td>\n",
       "      <td>149.99</td>\n",
       "      <td>1/5/2019 20:33</td>\n",
       "      <td>738 10th St, Los Angeles, CA 90001</td>\n",
       "      <td>1</td>\n",
       "      <td>Los Angeles</td>\n",
       "    </tr>\n",
       "    <tr>\n",
       "      <th>4</th>\n",
       "      <td>141238.0</td>\n",
       "      <td>Wired Headphones</td>\n",
       "      <td>1.0</td>\n",
       "      <td>11.99</td>\n",
       "      <td>1/25/2019 11:59</td>\n",
       "      <td>387 10th St, Austin, TX 73301</td>\n",
       "      <td>1</td>\n",
       "      <td>Austin</td>\n",
       "    </tr>\n",
       "  </tbody>\n",
       "</table>\n",
       "</div>"
      ],
      "text/plain": [
       "   Order ID                   Product  Quantity Ordered  Price Each  \\\n",
       "0  141234.0                    iPhone               1.0      700.00   \n",
       "1  141235.0  Lightning Charging Cable               1.0       14.95   \n",
       "2  141236.0          Wired Headphones               2.0       11.99   \n",
       "3  141237.0          27in FHD Monitor               1.0      149.99   \n",
       "4  141238.0          Wired Headphones               1.0       11.99   \n",
       "\n",
       "        Order Date                       Purchase Address  Month  \\\n",
       "0  1/22/2019 21:25        944 Walnut St, Boston, MA 02215      1   \n",
       "1  1/28/2019 14:15       185 Maple St, Portland, OR 97035      1   \n",
       "2  1/17/2019 13:33  538 Adams St, San Francisco, CA 94016      1   \n",
       "3   1/5/2019 20:33     738 10th St, Los Angeles, CA 90001      1   \n",
       "4  1/25/2019 11:59          387 10th St, Austin, TX 73301      1   \n",
       "\n",
       "             City  \n",
       "0          Boston  \n",
       "1        Portland  \n",
       "2   San Francisco  \n",
       "3     Los Angeles  \n",
       "4          Austin  "
      ]
     },
     "execution_count": 14,
     "metadata": {},
     "output_type": "execute_result"
    }
   ],
   "source": [
    "#storing the values of 'Purchase Address' column in a list and assigning it to 'City' column\n",
    "annual_data['City'] = annual_data['Purchase Address'].str.split(',')\n",
    "\n",
    "#accessing the value stored in index 1 and assigning it to 'City' column\n",
    "annual_data['City'] = annual_data['City'].str[1]\n",
    "\n",
    "#displaying the first five rows of the dataframe\n",
    "annual_data.head()"
   ]
  },
  {
   "cell_type": "markdown",
   "id": "51c6d687",
   "metadata": {},
   "source": [
    "# Data Analysis"
   ]
  },
  {
   "cell_type": "markdown",
   "id": "71e652ae",
   "metadata": {},
   "source": [
    "### Write a Python program to show summary statistics of sum, mean, standard deviation, skewness, and kurtosis of any chosen variable."
   ]
  },
  {
   "cell_type": "code",
   "execution_count": 15,
   "id": "ff70311d",
   "metadata": {
    "scrolled": true
   },
   "outputs": [
    {
     "data": {
      "text/html": [
       "<div>\n",
       "<style scoped>\n",
       "    .dataframe tbody tr th:only-of-type {\n",
       "        vertical-align: middle;\n",
       "    }\n",
       "\n",
       "    .dataframe tbody tr th {\n",
       "        vertical-align: top;\n",
       "    }\n",
       "\n",
       "    .dataframe thead th {\n",
       "        text-align: right;\n",
       "    }\n",
       "</style>\n",
       "<table border=\"1\" class=\"dataframe\">\n",
       "  <thead>\n",
       "    <tr style=\"text-align: right;\">\n",
       "      <th></th>\n",
       "      <th>values</th>\n",
       "    </tr>\n",
       "  </thead>\n",
       "  <tbody>\n",
       "    <tr>\n",
       "      <th>Sum:</th>\n",
       "      <td>34289130.68</td>\n",
       "    </tr>\n",
       "    <tr>\n",
       "      <th>Mean:</th>\n",
       "      <td>184.39973476700638</td>\n",
       "    </tr>\n",
       "    <tr>\n",
       "      <th>Standard Deviation:</th>\n",
       "      <td>332.7313298840899</td>\n",
       "    </tr>\n",
       "    <tr>\n",
       "      <th>Skewness:</th>\n",
       "      <td>2.8721487292935266</td>\n",
       "    </tr>\n",
       "    <tr>\n",
       "      <th>Kurtosis:</th>\n",
       "      <td>9.094568341148207</td>\n",
       "    </tr>\n",
       "  </tbody>\n",
       "</table>\n",
       "</div>"
      ],
      "text/plain": [
       "                                 values\n",
       "Sum:                        34289130.68\n",
       "Mean:                184.39973476700638\n",
       "Standard Deviation:   332.7313298840899\n",
       "Skewness:            2.8721487292935266\n",
       "Kurtosis:             9.094568341148207"
      ]
     },
     "execution_count": 15,
     "metadata": {},
     "output_type": "execute_result"
    }
   ],
   "source": [
    "#assigning the statistics of 'Price Each' column to appropriate variables\n",
    "sum_ = str(annual_data['Price Each'].sum())\n",
    "mean = str(annual_data['Price Each'].mean())\n",
    "std = str(annual_data['Price Each'].std())\n",
    "skew = str(annual_data['Price Each'].skew())\n",
    "kurt = str(annual_data['Price Each'].kurtosis())\n",
    "\n",
    "#creating lists to store the values and index of dataframe\n",
    "stats = [sum_, mean, std, skew, kurt]\n",
    "index = ['Sum:', 'Mean:', 'Standard Deviation:', 'Skewness:', 'Kurtosis:']\n",
    "\n",
    "#creating dataframe\n",
    "statistics = pd.DataFrame(stats, index = index, columns = ['values'])\n",
    "\n",
    "#displaying the sum, mean, standard deviation, skewness and kurtosis of 'Price Each' column\n",
    "statistics"
   ]
  },
  {
   "cell_type": "markdown",
   "id": "860c92a4",
   "metadata": {},
   "source": [
    "### Write a Python program to calculate and show correlation of all variables."
   ]
  },
  {
   "cell_type": "code",
   "execution_count": 16,
   "id": "bb224431",
   "metadata": {},
   "outputs": [
    {
     "data": {
      "text/html": [
       "<div>\n",
       "<style scoped>\n",
       "    .dataframe tbody tr th:only-of-type {\n",
       "        vertical-align: middle;\n",
       "    }\n",
       "\n",
       "    .dataframe tbody tr th {\n",
       "        vertical-align: top;\n",
       "    }\n",
       "\n",
       "    .dataframe thead th {\n",
       "        text-align: right;\n",
       "    }\n",
       "</style>\n",
       "<table border=\"1\" class=\"dataframe\">\n",
       "  <thead>\n",
       "    <tr style=\"text-align: right;\">\n",
       "      <th></th>\n",
       "      <th>Order ID</th>\n",
       "      <th>Quantity Ordered</th>\n",
       "      <th>Price Each</th>\n",
       "      <th>Month</th>\n",
       "    </tr>\n",
       "  </thead>\n",
       "  <tbody>\n",
       "    <tr>\n",
       "      <th>Order ID</th>\n",
       "      <td>1.000000</td>\n",
       "      <td>0.000702</td>\n",
       "      <td>-0.002857</td>\n",
       "      <td>0.993063</td>\n",
       "    </tr>\n",
       "    <tr>\n",
       "      <th>Quantity Ordered</th>\n",
       "      <td>0.000702</td>\n",
       "      <td>1.000000</td>\n",
       "      <td>-0.148272</td>\n",
       "      <td>0.000791</td>\n",
       "    </tr>\n",
       "    <tr>\n",
       "      <th>Price Each</th>\n",
       "      <td>-0.002857</td>\n",
       "      <td>-0.148272</td>\n",
       "      <td>1.000000</td>\n",
       "      <td>-0.003375</td>\n",
       "    </tr>\n",
       "    <tr>\n",
       "      <th>Month</th>\n",
       "      <td>0.993063</td>\n",
       "      <td>0.000791</td>\n",
       "      <td>-0.003375</td>\n",
       "      <td>1.000000</td>\n",
       "    </tr>\n",
       "  </tbody>\n",
       "</table>\n",
       "</div>"
      ],
      "text/plain": [
       "                  Order ID  Quantity Ordered  Price Each     Month\n",
       "Order ID          1.000000          0.000702   -0.002857  0.993063\n",
       "Quantity Ordered  0.000702          1.000000   -0.148272  0.000791\n",
       "Price Each       -0.002857         -0.148272    1.000000 -0.003375\n",
       "Month             0.993063          0.000791   -0.003375  1.000000"
      ]
     },
     "execution_count": 16,
     "metadata": {},
     "output_type": "execute_result"
    }
   ],
   "source": [
    "#creating the correlation of the dataframe\n",
    "correlation = annual_data.corr()\n",
    "correlation"
   ]
  },
  {
   "cell_type": "code",
   "execution_count": 17,
   "id": "74a467ac",
   "metadata": {},
   "outputs": [
    {
     "data": {
      "image/png": "[encoded data removed]",
      "text/plain": [
       "<Figure size 640x480 with 2 Axes>"
      ]
     },
     "metadata": {},
     "output_type": "display_data"
    }
   ],
   "source": [
    "#creating heatmap of the correlation\n",
    "heatmap = sns.heatmap(correlation, cmap = 'plasma', annot = True)"
   ]
  },
  {
   "cell_type": "markdown",
   "id": "e784c868",
   "metadata": {},
   "source": [
    "# Data Exploration"
   ]
  },
  {
   "cell_type": "markdown",
   "id": "a23ad03c",
   "metadata": {},
   "source": [
    "### Which Month has the best sales? and how much was the earning in that month? Make a bar graph of sales as well."
   ]
  },
  {
   "cell_type": "code",
   "execution_count": 18,
   "id": "2e8e9f4a",
   "metadata": {},
   "outputs": [
    {
     "data": {
      "text/html": [
       "<div>\n",
       "<style scoped>\n",
       "    .dataframe tbody tr th:only-of-type {\n",
       "        vertical-align: middle;\n",
       "    }\n",
       "\n",
       "    .dataframe tbody tr th {\n",
       "        vertical-align: top;\n",
       "    }\n",
       "\n",
       "    .dataframe thead th {\n",
       "        text-align: right;\n",
       "    }\n",
       "</style>\n",
       "<table border=\"1\" class=\"dataframe\">\n",
       "  <thead>\n",
       "    <tr style=\"text-align: right;\">\n",
       "      <th></th>\n",
       "      <th>Order ID</th>\n",
       "      <th>Product</th>\n",
       "      <th>Quantity Ordered</th>\n",
       "      <th>Price Each</th>\n",
       "      <th>Order Date</th>\n",
       "      <th>Purchase Address</th>\n",
       "      <th>Month</th>\n",
       "      <th>City</th>\n",
       "      <th>Total Sales</th>\n",
       "    </tr>\n",
       "  </thead>\n",
       "  <tbody>\n",
       "    <tr>\n",
       "      <th>0</th>\n",
       "      <td>141234.0</td>\n",
       "      <td>iPhone</td>\n",
       "      <td>1.0</td>\n",
       "      <td>700.00</td>\n",
       "      <td>1/22/2019 21:25</td>\n",
       "      <td>944 Walnut St, Boston, MA 02215</td>\n",
       "      <td>1</td>\n",
       "      <td>Boston</td>\n",
       "      <td>700.00</td>\n",
       "    </tr>\n",
       "    <tr>\n",
       "      <th>1</th>\n",
       "      <td>141235.0</td>\n",
       "      <td>Lightning Charging Cable</td>\n",
       "      <td>1.0</td>\n",
       "      <td>14.95</td>\n",
       "      <td>1/28/2019 14:15</td>\n",
       "      <td>185 Maple St, Portland, OR 97035</td>\n",
       "      <td>1</td>\n",
       "      <td>Portland</td>\n",
       "      <td>14.95</td>\n",
       "    </tr>\n",
       "    <tr>\n",
       "      <th>2</th>\n",
       "      <td>141236.0</td>\n",
       "      <td>Wired Headphones</td>\n",
       "      <td>2.0</td>\n",
       "      <td>11.99</td>\n",
       "      <td>1/17/2019 13:33</td>\n",
       "      <td>538 Adams St, San Francisco, CA 94016</td>\n",
       "      <td>1</td>\n",
       "      <td>San Francisco</td>\n",
       "      <td>23.98</td>\n",
       "    </tr>\n",
       "    <tr>\n",
       "      <th>3</th>\n",
       "      <td>141237.0</td>\n",
       "      <td>27in FHD Monitor</td>\n",
       "      <td>1.0</td>\n",
       "      <td>149.99</td>\n",
       "      <td>1/5/2019 20:33</td>\n",
       "      <td>738 10th St, Los Angeles, CA 90001</td>\n",
       "      <td>1</td>\n",
       "      <td>Los Angeles</td>\n",
       "      <td>149.99</td>\n",
       "    </tr>\n",
       "    <tr>\n",
       "      <th>4</th>\n",
       "      <td>141238.0</td>\n",
       "      <td>Wired Headphones</td>\n",
       "      <td>1.0</td>\n",
       "      <td>11.99</td>\n",
       "      <td>1/25/2019 11:59</td>\n",
       "      <td>387 10th St, Austin, TX 73301</td>\n",
       "      <td>1</td>\n",
       "      <td>Austin</td>\n",
       "      <td>11.99</td>\n",
       "    </tr>\n",
       "    <tr>\n",
       "      <th>...</th>\n",
       "      <td>...</td>\n",
       "      <td>...</td>\n",
       "      <td>...</td>\n",
       "      <td>...</td>\n",
       "      <td>...</td>\n",
       "      <td>...</td>\n",
       "      <td>...</td>\n",
       "      <td>...</td>\n",
       "      <td>...</td>\n",
       "    </tr>\n",
       "    <tr>\n",
       "      <th>25112</th>\n",
       "      <td>319666.0</td>\n",
       "      <td>Lightning Charging Cable</td>\n",
       "      <td>1.0</td>\n",
       "      <td>14.95</td>\n",
       "      <td>12/11/2019 20:58</td>\n",
       "      <td>14 Madison St, San Francisco, CA 94016</td>\n",
       "      <td>12</td>\n",
       "      <td>San Francisco</td>\n",
       "      <td>14.95</td>\n",
       "    </tr>\n",
       "    <tr>\n",
       "      <th>25113</th>\n",
       "      <td>319667.0</td>\n",
       "      <td>AA Batteries (4-pack)</td>\n",
       "      <td>2.0</td>\n",
       "      <td>3.84</td>\n",
       "      <td>12/1/2019 12:01</td>\n",
       "      <td>549 Willow St, Los Angeles, CA 90001</td>\n",
       "      <td>12</td>\n",
       "      <td>Los Angeles</td>\n",
       "      <td>7.68</td>\n",
       "    </tr>\n",
       "    <tr>\n",
       "      <th>25114</th>\n",
       "      <td>319668.0</td>\n",
       "      <td>Vareebadd Phone</td>\n",
       "      <td>1.0</td>\n",
       "      <td>400.00</td>\n",
       "      <td>12/9/2019 6:43</td>\n",
       "      <td>273 Wilson St, Seattle, WA 98101</td>\n",
       "      <td>12</td>\n",
       "      <td>Seattle</td>\n",
       "      <td>400.00</td>\n",
       "    </tr>\n",
       "    <tr>\n",
       "      <th>25115</th>\n",
       "      <td>319669.0</td>\n",
       "      <td>Wired Headphones</td>\n",
       "      <td>1.0</td>\n",
       "      <td>11.99</td>\n",
       "      <td>12/3/2019 10:39</td>\n",
       "      <td>778 River St, Dallas, TX 75001</td>\n",
       "      <td>12</td>\n",
       "      <td>Dallas</td>\n",
       "      <td>11.99</td>\n",
       "    </tr>\n",
       "    <tr>\n",
       "      <th>25116</th>\n",
       "      <td>319670.0</td>\n",
       "      <td>Bose SoundSport Headphones</td>\n",
       "      <td>1.0</td>\n",
       "      <td>99.99</td>\n",
       "      <td>12/21/2019 21:45</td>\n",
       "      <td>747 Chestnut St, Los Angeles, CA 90001</td>\n",
       "      <td>12</td>\n",
       "      <td>Los Angeles</td>\n",
       "      <td>99.99</td>\n",
       "    </tr>\n",
       "  </tbody>\n",
       "</table>\n",
       "<p>185950 rows × 9 columns</p>\n",
       "</div>"
      ],
      "text/plain": [
       "       Order ID                     Product  Quantity Ordered  Price Each  \\\n",
       "0      141234.0                      iPhone               1.0      700.00   \n",
       "1      141235.0    Lightning Charging Cable               1.0       14.95   \n",
       "2      141236.0            Wired Headphones               2.0       11.99   \n",
       "3      141237.0            27in FHD Monitor               1.0      149.99   \n",
       "4      141238.0            Wired Headphones               1.0       11.99   \n",
       "...         ...                         ...               ...         ...   \n",
       "25112  319666.0    Lightning Charging Cable               1.0       14.95   \n",
       "25113  319667.0       AA Batteries (4-pack)               2.0        3.84   \n",
       "25114  319668.0             Vareebadd Phone               1.0      400.00   \n",
       "25115  319669.0            Wired Headphones               1.0       11.99   \n",
       "25116  319670.0  Bose SoundSport Headphones               1.0       99.99   \n",
       "\n",
       "             Order Date                        Purchase Address  Month  \\\n",
       "0       1/22/2019 21:25         944 Walnut St, Boston, MA 02215      1   \n",
       "1       1/28/2019 14:15        185 Maple St, Portland, OR 97035      1   \n",
       "2       1/17/2019 13:33   538 Adams St, San Francisco, CA 94016      1   \n",
       "3        1/5/2019 20:33      738 10th St, Los Angeles, CA 90001      1   \n",
       "4       1/25/2019 11:59           387 10th St, Austin, TX 73301      1   \n",
       "...                 ...                                     ...    ...   \n",
       "25112  12/11/2019 20:58  14 Madison St, San Francisco, CA 94016     12   \n",
       "25113   12/1/2019 12:01    549 Willow St, Los Angeles, CA 90001     12   \n",
       "25114    12/9/2019 6:43        273 Wilson St, Seattle, WA 98101     12   \n",
       "25115   12/3/2019 10:39          778 River St, Dallas, TX 75001     12   \n",
       "25116  12/21/2019 21:45  747 Chestnut St, Los Angeles, CA 90001     12   \n",
       "\n",
       "                 City  Total Sales  \n",
       "0              Boston       700.00  \n",
       "1            Portland        14.95  \n",
       "2       San Francisco        23.98  \n",
       "3         Los Angeles       149.99  \n",
       "4              Austin        11.99  \n",
       "...               ...          ...  \n",
       "25112   San Francisco        14.95  \n",
       "25113     Los Angeles         7.68  \n",
       "25114         Seattle       400.00  \n",
       "25115          Dallas        11.99  \n",
       "25116     Los Angeles        99.99  \n",
       "\n",
       "[185950 rows x 9 columns]"
      ]
     },
     "execution_count": 18,
     "metadata": {},
     "output_type": "execute_result"
    }
   ],
   "source": [
    "#calculating Total Sales by multiplying quantity ordered and price each\n",
    "annual_data['Total Sales'] = annual_data['Quantity Ordered'] * annual_data['Price Each']\n",
    "\n",
    "#displaying the dataframe\n",
    "annual_data"
   ]
  },
  {
   "cell_type": "code",
   "execution_count": 19,
   "id": "be1c9f6e",
   "metadata": {},
   "outputs": [
    {
     "data": {
      "text/plain": [
       "Month\n",
       "1     1822256.73\n",
       "2     2202022.42\n",
       "3     2807100.38\n",
       "4     3390670.24\n",
       "5     3152606.75\n",
       "6     2577802.26\n",
       "7     2647775.76\n",
       "8     2244467.88\n",
       "9     2097560.13\n",
       "10    3736726.88\n",
       "11    3199603.20\n",
       "12    4613443.34\n",
       "Name: Total Sales, dtype: float64"
      ]
     },
     "execution_count": 19,
     "metadata": {},
     "output_type": "execute_result"
    }
   ],
   "source": [
    "#grouping the 'Total Sales' column by Month and summing the entire column\n",
    "monthly_sales = annual_data.groupby('Month')['Total Sales'].sum()\n",
    "monthly_sales"
   ]
  },
  {
   "cell_type": "code",
   "execution_count": 20,
   "id": "32b8f44c",
   "metadata": {
    "scrolled": false
   },
   "outputs": [
    {
     "data": {
      "image/png": "[encoded data removed]",
      "text/plain": [
       "<Figure size 640x480 with 1 Axes>"
      ]
     },
     "metadata": {},
     "output_type": "display_data"
    },
    {
     "name": "stdout",
     "output_type": "stream",
     "text": [
      "The month with best sales: 12\n",
      "The earning in the best sales month: $4613443.34\n"
     ]
    }
   ],
   "source": [
    "#creating figure and defining axes\n",
    "fig = plt.figure()\n",
    "axes = fig.add_axes([0,0,1.5,1])\n",
    "\n",
    "#creating a list of colors\n",
    "color = ['green', 'green', 'green', 'green', 'green', 'green', 'green', 'green', 'green', 'green', 'green', 'red']\n",
    "\n",
    "#creating bar graph\n",
    "axes.bar(monthly_sales.index, monthly_sales.values, color = color, edgecolor = 'black', width = 0.7, alpha = 0.7)\n",
    "\n",
    "#Setting labels and title\n",
    "axes.set_xlabel('Months', fontsize = 15)\n",
    "axes.set_ylabel('Total Sales ($)', fontsize = 15)\n",
    "axes.set_xticks(monthly_sales.index)\n",
    "axes.set_title('Bar Graph representing the sales in each month', fontsize = 20, fontweight = 'bold')\n",
    "\n",
    "#displaying the plot\n",
    "plt.show()\n",
    "\n",
    "#displaying the best sales month and its earning\n",
    "print('The month with best sales: ' + str(monthly_sales.idxmax()))\n",
    "print('The earning in the best sales month: $' + str(monthly_sales.max()))"
   ]
  },
  {
   "cell_type": "markdown",
   "id": "821b9a9b",
   "metadata": {},
   "source": [
    "### Which city has sold the highest product?"
   ]
  },
  {
   "cell_type": "code",
   "execution_count": 21,
   "id": "60aa9c7c",
   "metadata": {
    "scrolled": true
   },
   "outputs": [
    {
     "data": {
      "text/plain": [
       "City\n",
       " Atlanta          16602.0\n",
       " Austin           11153.0\n",
       " Boston           22528.0\n",
       " Dallas           16730.0\n",
       " Los Angeles      33289.0\n",
       " New York City    27932.0\n",
       " Portland         14053.0\n",
       " San Francisco    50239.0\n",
       " Seattle          16553.0\n",
       "Name: Quantity Ordered, dtype: float64"
      ]
     },
     "execution_count": 21,
     "metadata": {},
     "output_type": "execute_result"
    }
   ],
   "source": [
    "#grouping the 'Quantity Ordered' column by 'City'\n",
    "most_product_sold_city = annual_data.groupby('City')['Quantity Ordered'].sum()\n",
    "most_product_sold_city"
   ]
  },
  {
   "cell_type": "code",
   "execution_count": 22,
   "id": "e48c8797",
   "metadata": {},
   "outputs": [
    {
     "data": {
      "image/png": "[encoded data removed]",
      "text/plain": [
       "<Figure size 640x480 with 1 Axes>"
      ]
     },
     "metadata": {},
     "output_type": "display_data"
    },
    {
     "name": "stdout",
     "output_type": "stream",
     "text": [
      "The city that sold the highest number of products:  San Francisco\n"
     ]
    }
   ],
   "source": [
    "#creating a list of colors\n",
    "color_1 = ['purple', 'purple', 'purple', 'purple', 'purple', 'purple', 'purple', 'yellow', 'purple']\n",
    "\n",
    "#plotting bar graph\n",
    "plt.bar(most_product_sold_city.index, most_product_sold_city.values, color = color_1, edgecolor = 'black', alpha = 0.7)\n",
    "\n",
    "#Setting labels and title\n",
    "plt.xticks(rotation=90)\n",
    "plt.xlabel('Cities', fontsize = 13)\n",
    "plt.ylabel('Quantities Sold', fontsize = 13)\n",
    "plt.title('Bar Graph showing the no. of products sold in each city', fontsize = 11 , fontweight = 'bold')\n",
    "\n",
    "#displaying the plot\n",
    "plt.show()\n",
    "\n",
    "#displaying the city that sold most product\n",
    "highest_product_sold_city = print(\"The city that sold the highest number of products: \" + str(most_product_sold_city.idxmax()))"
   ]
  },
  {
   "cell_type": "markdown",
   "id": "754757a5",
   "metadata": {},
   "source": [
    "### Which product was sold the most in overall? Illustrate it through bar graph."
   ]
  },
  {
   "cell_type": "code",
   "execution_count": 23,
   "id": "ca0ff1dc",
   "metadata": {},
   "outputs": [
    {
     "data": {
      "text/plain": [
       "Product\n",
       "20in Monitor                   4129.0\n",
       "27in 4K Gaming Monitor         6244.0\n",
       "27in FHD Monitor               7550.0\n",
       "34in Ultrawide Monitor         6199.0\n",
       "AA Batteries (4-pack)         27635.0\n",
       "AAA Batteries (4-pack)        31017.0\n",
       "Apple Airpods Headphones      15661.0\n",
       "Bose SoundSport Headphones    13457.0\n",
       "Flatscreen TV                  4819.0\n",
       "Google Phone                   5532.0\n",
       "LG Dryer                        646.0\n",
       "LG Washing Machine              666.0\n",
       "Lightning Charging Cable      23217.0\n",
       "Macbook Pro Laptop             4728.0\n",
       "ThinkPad Laptop                4130.0\n",
       "USB-C Charging Cable          23975.0\n",
       "Vareebadd Phone                2068.0\n",
       "Wired Headphones              20557.0\n",
       "iPhone                         6849.0\n",
       "Name: Quantity Ordered, dtype: float64"
      ]
     },
     "execution_count": 23,
     "metadata": {},
     "output_type": "execute_result"
    }
   ],
   "source": [
    "#grouping the 'Quantity Ordered' column by 'Product'\n",
    "most_sold_product = annual_data.groupby('Product')['Quantity Ordered'].sum()\n",
    "most_sold_product"
   ]
  },
  {
   "cell_type": "code",
   "execution_count": 24,
   "id": "55a13e09",
   "metadata": {},
   "outputs": [
    {
     "data": {
      "image/png": "[encoded data removed]",
      "text/plain": [
       "<Figure size 640x480 with 1 Axes>"
      ]
     },
     "metadata": {},
     "output_type": "display_data"
    },
    {
     "name": "stdout",
     "output_type": "stream",
     "text": [
      "The most sold product: AAA Batteries (4-pack)\n"
     ]
    }
   ],
   "source": [
    "#creating a list of colors\n",
    "color_2 = ['blue', 'blue', 'blue', 'blue', 'blue', 'orange', 'blue', 'blue', 'blue', 'blue', \n",
    "           'blue', 'blue', 'blue', 'blue', 'blue', 'blue', 'blue', 'blue', 'blue']\n",
    "\n",
    "#plotting bar graph\n",
    "plt.bar(most_sold_product.index, most_sold_product.values, color = color_2, edgecolor = 'black', alpha = 0.7)\n",
    "\n",
    "#setting labels and title\n",
    "plt.xticks(rotation=90)\n",
    "plt.xlabel('Products', fontsize = 13)\n",
    "plt.ylabel('Quantities Sold', fontsize = 13)\n",
    "plt.title('Bar Graph displaying the total number of products sold', fontsize = 11, fontweight = 'bold')\n",
    "\n",
    "#displaying the plot\n",
    "plt.show()\n",
    "\n",
    "#displaying the most sold product\n",
    "print('The most sold product: ' + most_sold_product.idxmax())"
   ]
  },
  {
   "cell_type": "markdown",
   "id": "734659f9",
   "metadata": {},
   "source": [
    "### Write a Python program to show histogram plot of any chosen variables. Use proper labels in the graph."
   ]
  },
  {
   "cell_type": "code",
   "execution_count": 25,
   "id": "bb0044f9",
   "metadata": {
    "scrolled": false
   },
   "outputs": [
    {
     "data": {
      "image/png": "[encoded data removed]",
      "text/plain": [
       "<Figure size 640x480 with 1 Axes>"
      ]
     },
     "metadata": {},
     "output_type": "display_data"
    }
   ],
   "source": [
    "#plotting histogram\n",
    "plt.hist(annual_data['Price Each'], bins = 20, edgecolor = 'black', color = 'pink')\n",
    "\n",
    "#setting labels and title\n",
    "plt.xlabel('Price (in $)', fontsize = 13)\n",
    "plt.ylabel('Product Count', fontsize = 13)\n",
    "plt.title('Histogram representing the distribution of Product with different prices', fontsize = 15, fontweight = 'bold')\n",
    "\n",
    "#displaying the plot\n",
    "plt.show()"
   ]
  }
 ],
 "metadata": {
  "kernelspec": {
   "display_name": "Python 3 (ipykernel)",
   "language": "python",
   "name": "python3"
  },
  "language_info": {
   "codemirror_mode": {
    "name": "ipython",
    "version": 3
   },
   "file_extension": ".py",
   "mimetype": "text/x-python",
   "name": "python",
   "nbconvert_exporter": "python",
   "pygments_lexer": "ipython3",
   "version": "3.9.13"
  }
 },
 "nbformat": 4,
 "nbformat_minor": 5
}
